{
 "cells": [
  {
   "cell_type": "code",
   "execution_count": 5,
   "id": "4c3b16db",
   "metadata": {},
   "outputs": [],
   "source": [
    "import os\n",
    "import shutil\n",
    "import random\n",
    "import tqdm\n",
    "import numpy as np\n",
    "import pandas as pd"
   ]
  },
  {
   "cell_type": "markdown",
   "id": "e51d91c0",
   "metadata": {},
   "source": [
    "### Sample files as the training data"
   ]
  },
  {
   "cell_type": "code",
   "execution_count": 6,
   "id": "04d9c7cf",
   "metadata": {},
   "outputs": [],
   "source": [
    "random.seed(1231)"
   ]
  },
  {
   "cell_type": "code",
   "execution_count": 7,
   "id": "bbb1c655",
   "metadata": {},
   "outputs": [],
   "source": [
    "def copyFile(raw_data_path, target_dir,num):\n",
    "        raw_files = os.listdir(raw_data_path)    \n",
    "        sample = random.sample(raw_files, num)  \n",
    "        for file_name in tqdm.tqdm(sample):\n",
    "                shutil.copy(raw_data_path+file_name, target_dir)"
   ]
  },
  {
   "cell_type": "code",
   "execution_count": 8,
   "id": "b8c3bfaa",
   "metadata": {},
   "outputs": [
    {
     "name": "stderr",
     "output_type": "stream",
     "text": [
      "100%|██████████████████████████████████████████████████████████████████████████| 40000/40000 [00:36<00:00, 1086.99it/s]\n",
      "100%|█████████████████████████████████████████████████████████████████████████████| 2000/2000 [00:02<00:00, 699.68it/s]\n"
     ]
    }
   ],
   "source": [
    "data_path = \"cnn/stories/\"\n",
    "train_target_path = \"train_data/\"\n",
    "test_target_path = \"test_data/\"\n",
    "copyFile(data_path, train_target_path, 40000)\n",
    "copyFile(data_path, test_target_path, 2000)"
   ]
  },
  {
   "cell_type": "code",
   "execution_count": null,
   "id": "3ded995b",
   "metadata": {},
   "outputs": [],
   "source": []
  }
 ],
 "metadata": {
  "kernelspec": {
   "display_name": "Python 3 (ipykernel)",
   "language": "python",
   "name": "python3"
  },
  "language_info": {
   "codemirror_mode": {
    "name": "ipython",
    "version": 3
   },
   "file_extension": ".py",
   "mimetype": "text/x-python",
   "name": "python",
   "nbconvert_exporter": "python",
   "pygments_lexer": "ipython3",
   "version": "3.9.1"
  }
 },
 "nbformat": 4,
 "nbformat_minor": 5
}
